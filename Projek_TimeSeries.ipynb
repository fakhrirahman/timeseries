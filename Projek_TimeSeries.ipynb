{
  "nbformat": 4,
  "nbformat_minor": 0,
  "metadata": {
    "colab": {
      "name": "Projek_TimeSeries.ipynb",
      "provenance": []
    },
    "kernelspec": {
      "name": "python3",
      "display_name": "Python 3"
    },
    "language_info": {
      "name": "python"
    },
    "accelerator": "GPU"
  },
  "cells": [
    {
      "cell_type": "markdown",
      "source": [
        "# **Import Package**"
      ],
      "metadata": {
        "id": "E65EUoAKjvc8"
      }
    },
    {
      "cell_type": "code",
      "execution_count": 15,
      "metadata": {
        "id": "6uUVVR7rQTHa"
      },
      "outputs": [],
      "source": [
        "import pandas as pd\n",
        "import numpy as np\n",
        "import tensorflow as tf\n",
        "import matplotlib.pyplot as plt\n",
        "from sklearn.preprocessing import MinMaxScaler\n",
        "\n",
        "from keras.models import Sequential\n",
        "from keras.layers import Dense, LSTM, Dropout\n",
        "from keras.layers import *"
      ]
    },
    {
      "cell_type": "markdown",
      "source": [
        "# **Dataset Exploration**"
      ],
      "metadata": {
        "id": "lj2DDom2j5DK"
      }
    },
    {
      "cell_type": "code",
      "source": [
        "df = pd.read_csv('/content/AMZN_2006-01-01_to_2018-01-01.csv')\n",
        "df.head()"
      ],
      "metadata": {
        "colab": {
          "base_uri": "https://localhost:8080/",
          "height": 206
        },
        "id": "K1hpw1C0RCzN",
        "outputId": "3ac00562-d1cc-47ed-dab1-4e86adb23706"
      },
      "execution_count": 2,
      "outputs": [
        {
          "output_type": "execute_result",
          "data": {
            "text/html": [
              "\n",
              "  <div id=\"df-fbf046f0-244a-44ef-9307-f28b53b5e1fd\">\n",
              "    <div class=\"colab-df-container\">\n",
              "      <div>\n",
              "<style scoped>\n",
              "    .dataframe tbody tr th:only-of-type {\n",
              "        vertical-align: middle;\n",
              "    }\n",
              "\n",
              "    .dataframe tbody tr th {\n",
              "        vertical-align: top;\n",
              "    }\n",
              "\n",
              "    .dataframe thead th {\n",
              "        text-align: right;\n",
              "    }\n",
              "</style>\n",
              "<table border=\"1\" class=\"dataframe\">\n",
              "  <thead>\n",
              "    <tr style=\"text-align: right;\">\n",
              "      <th></th>\n",
              "      <th>Date</th>\n",
              "      <th>Open</th>\n",
              "      <th>High</th>\n",
              "      <th>Low</th>\n",
              "      <th>Close</th>\n",
              "      <th>Volume</th>\n",
              "      <th>Name</th>\n",
              "    </tr>\n",
              "  </thead>\n",
              "  <tbody>\n",
              "    <tr>\n",
              "      <th>0</th>\n",
              "      <td>2006-01-03</td>\n",
              "      <td>47.47</td>\n",
              "      <td>47.85</td>\n",
              "      <td>46.25</td>\n",
              "      <td>47.58</td>\n",
              "      <td>7582127</td>\n",
              "      <td>AMZN</td>\n",
              "    </tr>\n",
              "    <tr>\n",
              "      <th>1</th>\n",
              "      <td>2006-01-04</td>\n",
              "      <td>47.48</td>\n",
              "      <td>47.73</td>\n",
              "      <td>46.69</td>\n",
              "      <td>47.25</td>\n",
              "      <td>7440914</td>\n",
              "      <td>AMZN</td>\n",
              "    </tr>\n",
              "    <tr>\n",
              "      <th>2</th>\n",
              "      <td>2006-01-05</td>\n",
              "      <td>47.16</td>\n",
              "      <td>48.20</td>\n",
              "      <td>47.11</td>\n",
              "      <td>47.65</td>\n",
              "      <td>5417258</td>\n",
              "      <td>AMZN</td>\n",
              "    </tr>\n",
              "    <tr>\n",
              "      <th>3</th>\n",
              "      <td>2006-01-06</td>\n",
              "      <td>47.97</td>\n",
              "      <td>48.58</td>\n",
              "      <td>47.32</td>\n",
              "      <td>47.87</td>\n",
              "      <td>6154285</td>\n",
              "      <td>AMZN</td>\n",
              "    </tr>\n",
              "    <tr>\n",
              "      <th>4</th>\n",
              "      <td>2006-01-09</td>\n",
              "      <td>46.55</td>\n",
              "      <td>47.10</td>\n",
              "      <td>46.40</td>\n",
              "      <td>47.08</td>\n",
              "      <td>8945056</td>\n",
              "      <td>AMZN</td>\n",
              "    </tr>\n",
              "  </tbody>\n",
              "</table>\n",
              "</div>\n",
              "      <button class=\"colab-df-convert\" onclick=\"convertToInteractive('df-fbf046f0-244a-44ef-9307-f28b53b5e1fd')\"\n",
              "              title=\"Convert this dataframe to an interactive table.\"\n",
              "              style=\"display:none;\">\n",
              "        \n",
              "  <svg xmlns=\"http://www.w3.org/2000/svg\" height=\"24px\"viewBox=\"0 0 24 24\"\n",
              "       width=\"24px\">\n",
              "    <path d=\"M0 0h24v24H0V0z\" fill=\"none\"/>\n",
              "    <path d=\"M18.56 5.44l.94 2.06.94-2.06 2.06-.94-2.06-.94-.94-2.06-.94 2.06-2.06.94zm-11 1L8.5 8.5l.94-2.06 2.06-.94-2.06-.94L8.5 2.5l-.94 2.06-2.06.94zm10 10l.94 2.06.94-2.06 2.06-.94-2.06-.94-.94-2.06-.94 2.06-2.06.94z\"/><path d=\"M17.41 7.96l-1.37-1.37c-.4-.4-.92-.59-1.43-.59-.52 0-1.04.2-1.43.59L10.3 9.45l-7.72 7.72c-.78.78-.78 2.05 0 2.83L4 21.41c.39.39.9.59 1.41.59.51 0 1.02-.2 1.41-.59l7.78-7.78 2.81-2.81c.8-.78.8-2.07 0-2.86zM5.41 20L4 18.59l7.72-7.72 1.47 1.35L5.41 20z\"/>\n",
              "  </svg>\n",
              "      </button>\n",
              "      \n",
              "  <style>\n",
              "    .colab-df-container {\n",
              "      display:flex;\n",
              "      flex-wrap:wrap;\n",
              "      gap: 12px;\n",
              "    }\n",
              "\n",
              "    .colab-df-convert {\n",
              "      background-color: #E8F0FE;\n",
              "      border: none;\n",
              "      border-radius: 50%;\n",
              "      cursor: pointer;\n",
              "      display: none;\n",
              "      fill: #1967D2;\n",
              "      height: 32px;\n",
              "      padding: 0 0 0 0;\n",
              "      width: 32px;\n",
              "    }\n",
              "\n",
              "    .colab-df-convert:hover {\n",
              "      background-color: #E2EBFA;\n",
              "      box-shadow: 0px 1px 2px rgba(60, 64, 67, 0.3), 0px 1px 3px 1px rgba(60, 64, 67, 0.15);\n",
              "      fill: #174EA6;\n",
              "    }\n",
              "\n",
              "    [theme=dark] .colab-df-convert {\n",
              "      background-color: #3B4455;\n",
              "      fill: #D2E3FC;\n",
              "    }\n",
              "\n",
              "    [theme=dark] .colab-df-convert:hover {\n",
              "      background-color: #434B5C;\n",
              "      box-shadow: 0px 1px 3px 1px rgba(0, 0, 0, 0.15);\n",
              "      filter: drop-shadow(0px 1px 2px rgba(0, 0, 0, 0.3));\n",
              "      fill: #FFFFFF;\n",
              "    }\n",
              "  </style>\n",
              "\n",
              "      <script>\n",
              "        const buttonEl =\n",
              "          document.querySelector('#df-fbf046f0-244a-44ef-9307-f28b53b5e1fd button.colab-df-convert');\n",
              "        buttonEl.style.display =\n",
              "          google.colab.kernel.accessAllowed ? 'block' : 'none';\n",
              "\n",
              "        async function convertToInteractive(key) {\n",
              "          const element = document.querySelector('#df-fbf046f0-244a-44ef-9307-f28b53b5e1fd');\n",
              "          const dataTable =\n",
              "            await google.colab.kernel.invokeFunction('convertToInteractive',\n",
              "                                                     [key], {});\n",
              "          if (!dataTable) return;\n",
              "\n",
              "          const docLinkHtml = 'Like what you see? Visit the ' +\n",
              "            '<a target=\"_blank\" href=https://colab.research.google.com/notebooks/data_table.ipynb>data table notebook</a>'\n",
              "            + ' to learn more about interactive tables.';\n",
              "          element.innerHTML = '';\n",
              "          dataTable['output_type'] = 'display_data';\n",
              "          await google.colab.output.renderOutput(dataTable, element);\n",
              "          const docLink = document.createElement('div');\n",
              "          docLink.innerHTML = docLinkHtml;\n",
              "          element.appendChild(docLink);\n",
              "        }\n",
              "      </script>\n",
              "    </div>\n",
              "  </div>\n",
              "  "
            ],
            "text/plain": [
              "         Date   Open   High    Low  Close   Volume  Name\n",
              "0  2006-01-03  47.47  47.85  46.25  47.58  7582127  AMZN\n",
              "1  2006-01-04  47.48  47.73  46.69  47.25  7440914  AMZN\n",
              "2  2006-01-05  47.16  48.20  47.11  47.65  5417258  AMZN\n",
              "3  2006-01-06  47.97  48.58  47.32  47.87  6154285  AMZN\n",
              "4  2006-01-09  46.55  47.10  46.40  47.08  8945056  AMZN"
            ]
          },
          "metadata": {},
          "execution_count": 2
        }
      ]
    },
    {
      "cell_type": "code",
      "source": [
        "date = df['Date'].values\n",
        "price = df['Close'].values"
      ],
      "metadata": {
        "id": "5ovcIrCdSVO5"
      },
      "execution_count": 3,
      "outputs": []
    },
    {
      "cell_type": "markdown",
      "source": [
        "## **Visualize Closing Price**"
      ],
      "metadata": {
        "id": "vYpuV3hBkCrO"
      }
    },
    {
      "cell_type": "code",
      "source": [
        "plt.figure(figsize=(15,5))\n",
        "plt.plot(date, price, color = 'red', label = 'Real AMZN Stock Price')\n",
        "plt.title('AMZN Stock Price',\n",
        "          fontsize=20)"
      ],
      "metadata": {
        "colab": {
          "base_uri": "https://localhost:8080/",
          "height": 358
        },
        "id": "krtr3wU8b8Qk",
        "outputId": "f0b3b01f-d744-493a-cbe7-35d522e85fc7"
      },
      "execution_count": 5,
      "outputs": [
        {
          "output_type": "execute_result",
          "data": {
            "text/plain": [
              "Text(0.5, 1.0, 'AMZN Stock Price')"
            ]
          },
          "metadata": {},
          "execution_count": 5
        },
        {
          "output_type": "display_data",
          "data": {
            "image/png": "[encoded data removed]",
            "text/plain": [
              "<Figure size 1080x360 with 1 Axes>"
            ]
          },
          "metadata": {
            "needs_background": "light"
          }
        }
      ]
    },
    {
      "cell_type": "markdown",
      "source": [
        "# **Preprocessing**"
      ],
      "metadata": {
        "id": "5sLSBitTtkd_"
      }
    },
    {
      "cell_type": "code",
      "source": [
        "def test_size (percent):\n",
        "  total = len(price)\n",
        "  test = total*percent\n",
        "  return round(test)\n",
        "\n",
        "test_size(0.2)\n",
        "train_size = len(price)-test_size(0.2)\n",
        "train_size"
      ],
      "metadata": {
        "colab": {
          "base_uri": "https://localhost:8080/"
        },
        "id": "opJU8ed4Mels",
        "outputId": "31cc95d0-a99f-4bdc-8a51-5468e541a606"
      },
      "execution_count": 4,
      "outputs": [
        {
          "output_type": "execute_result",
          "data": {
            "text/plain": [
              "2415"
            ]
          },
          "metadata": {},
          "execution_count": 4
        }
      ]
    },
    {
      "cell_type": "code",
      "source": [
        "training_set = df.iloc[:train_size, 4:5].values\n",
        "test_set = df.iloc[train_size:, 4:5].values"
      ],
      "metadata": {
        "id": "R4oWnq6TRPmI"
      },
      "execution_count": 21,
      "outputs": []
    },
    {
      "cell_type": "code",
      "source": [
        "training_set"
      ],
      "metadata": {
        "colab": {
          "base_uri": "https://localhost:8080/"
        },
        "id": "ePZISuACm87x",
        "outputId": "27cf7fe1-41ef-4a9a-d49a-8bf2f46c52cb"
      },
      "execution_count": 22,
      "outputs": [
        {
          "output_type": "execute_result",
          "data": {
            "text/plain": [
              "array([[ 47.58],\n",
              "       [ 47.25],\n",
              "       [ 47.65],\n",
              "       ...,\n",
              "       [537.01],\n",
              "       [529.46],\n",
              "       [522.62]])"
            ]
          },
          "metadata": {},
          "execution_count": 22
        }
      ]
    },
    {
      "cell_type": "code",
      "source": [
        "sc = MinMaxScaler(feature_range = (0, 1))\n",
        "training_set_scaled = sc.fit_transform(training_set)"
      ],
      "metadata": {
        "id": "33dMvWnBNl4X"
      },
      "execution_count": 23,
      "outputs": []
    },
    {
      "cell_type": "code",
      "source": [
        "window_size = 50\n",
        "\n",
        "X_train = []\n",
        "y_train = []\n",
        "\n",
        "for i in range(window_size, train_size):\n",
        "    X_train.append(training_set_scaled[i-window_size:i, 0])\n",
        "    y_train.append(training_set_scaled[i, 0])\n",
        "\n",
        "X_train, y_train = np.array(X_train), np.array(y_train)\n",
        "\n",
        "X_train = np.reshape(X_train, (X_train.shape[0], X_train.shape[1], 1))"
      ],
      "metadata": {
        "id": "1D4amDCCUpHx"
      },
      "execution_count": 24,
      "outputs": []
    },
    {
      "cell_type": "markdown",
      "source": [
        "# **Model Initialization**"
      ],
      "metadata": {
        "id": "878Aa4_stpjf"
      }
    },
    {
      "cell_type": "code",
      "source": [
        "model = Sequential()\n",
        "\n",
        "model.add(LSTM(units = 50, return_sequences = True, input_shape = (X_train.shape[1], 1)))\n",
        "model.add(Dropout(0.2))\n",
        "\n",
        "model.add(LSTM(units = 50, return_sequences = True))\n",
        "model.add(Dropout(0.2))\n",
        "\n",
        "model.add(LSTM(units = 50, return_sequences = True))\n",
        "model.add(Dropout(0.2))\n",
        "\n",
        "model.add(LSTM(units = 50))\n",
        "model.add(Dropout(0.2))\n",
        "\n",
        "model.add(Dense(units = 1))"
      ],
      "metadata": {
        "id": "kU-Osv7HbUnL"
      },
      "execution_count": 25,
      "outputs": []
    },
    {
      "cell_type": "code",
      "source": [
        "class my_callback(tf.keras.callbacks.Callback):\n",
        "    def on_epoch_end(self, epoch, logs={}):\n",
        "        if(logs.get('mae') < 0.1):\n",
        "            print(\"MAE has reached below 10%\")\n",
        "\n",
        "    def on_train_end(self, epoch, logs={}):\n",
        "        print('Done')\n",
        "\n",
        "callbacks = my_callback()"
      ],
      "metadata": {
        "id": "Xy2hqLo5f9jd"
      },
      "execution_count": 26,
      "outputs": []
    },
    {
      "cell_type": "markdown",
      "source": [
        "# **Training**"
      ],
      "metadata": {
        "id": "bVOwM_bhtvtv"
      }
    },
    {
      "cell_type": "code",
      "source": [
        "optimizer = tf.keras.optimizers.Adam(learning_rate=0.01)\n",
        "\n",
        "model.compile(loss=tf.keras.losses.Huber(),\n",
        "              optimizer=optimizer,\n",
        "              metrics=[\"mae\"])\n",
        "\n",
        "\n",
        "history = model.fit(X_train, \n",
        "                    y_train, \n",
        "                    validation_split = 0.2,\n",
        "                    callbacks = callbacks,\n",
        "                    epochs = 100, \n",
        "                    batch_size = 32)"
      ],
      "metadata": {
        "colab": {
          "base_uri": "https://localhost:8080/"
        },
        "id": "PRY6F9ULdzCu",
        "outputId": "26414856-efdb-4844-9d27-a69934a9ad2b"
      },
      "execution_count": 27,
      "outputs": [
        {
          "output_type": "stream",
          "name": "stdout",
          "text": [
            "Epoch 1/100\n",
            "60/60 [==============================] - ETA: 0s - loss: 0.0069 - mae: 0.0729MAE has reached below 10%\n",
            "60/60 [==============================] - 12s 87ms/step - loss: 0.0069 - mae: 0.0729 - val_loss: 0.0109 - val_mae: 0.1343\n",
            "Epoch 2/100\n",
            "60/60 [==============================] - ETA: 0s - loss: 5.6417e-04 - mae: 0.0249MAE has reached below 10%\n",
            "60/60 [==============================] - 4s 60ms/step - loss: 5.6417e-04 - mae: 0.0249 - val_loss: 0.0013 - val_mae: 0.0384\n",
            "Epoch 3/100\n",
            "60/60 [==============================] - ETA: 0s - loss: 4.1510e-04 - mae: 0.0215MAE has reached below 10%\n",
            "60/60 [==============================] - 4s 60ms/step - loss: 4.1510e-04 - mae: 0.0215 - val_loss: 0.0011 - val_mae: 0.0352\n",
            "Epoch 4/100\n",
            "60/60 [==============================] - ETA: 0s - loss: 4.8256e-04 - mae: 0.0237MAE has reached below 10%\n",
            "60/60 [==============================] - 4s 60ms/step - loss: 4.8256e-04 - mae: 0.0237 - val_loss: 0.0010 - val_mae: 0.0330\n",
            "Epoch 5/100\n",
            "60/60 [==============================] - ETA: 0s - loss: 3.8019e-04 - mae: 0.0206MAE has reached below 10%\n",
            "60/60 [==============================] - 4s 60ms/step - loss: 3.8019e-04 - mae: 0.0206 - val_loss: 0.0047 - val_mae: 0.0840\n",
            "Epoch 6/100\n",
            "59/60 [============================>.] - ETA: 0s - loss: 4.2833e-04 - mae: 0.0228MAE has reached below 10%\n",
            "60/60 [==============================] - 4s 60ms/step - loss: 4.2777e-04 - mae: 0.0227 - val_loss: 0.0021 - val_mae: 0.0505\n",
            "Epoch 7/100\n",
            "60/60 [==============================] - ETA: 0s - loss: 3.0149e-04 - mae: 0.0181MAE has reached below 10%\n",
            "60/60 [==============================] - 4s 60ms/step - loss: 3.0149e-04 - mae: 0.0181 - val_loss: 0.0030 - val_mae: 0.0658\n",
            "Epoch 8/100\n",
            "60/60 [==============================] - ETA: 0s - loss: 3.2664e-04 - mae: 0.0193MAE has reached below 10%\n",
            "60/60 [==============================] - 4s 60ms/step - loss: 3.2664e-04 - mae: 0.0193 - val_loss: 0.0014 - val_mae: 0.0407\n",
            "Epoch 9/100\n",
            "60/60 [==============================] - ETA: 0s - loss: 3.0924e-04 - mae: 0.0188MAE has reached below 10%\n",
            "60/60 [==============================] - 4s 60ms/step - loss: 3.0924e-04 - mae: 0.0188 - val_loss: 8.4632e-04 - val_mae: 0.0309\n",
            "Epoch 10/100\n",
            "60/60 [==============================] - ETA: 0s - loss: 3.0121e-04 - mae: 0.0184MAE has reached below 10%\n",
            "60/60 [==============================] - 4s 60ms/step - loss: 3.0121e-04 - mae: 0.0184 - val_loss: 0.0016 - val_mae: 0.0425\n",
            "Epoch 11/100\n",
            "59/60 [============================>.] - ETA: 0s - loss: 2.8748e-04 - mae: 0.0179MAE has reached below 10%\n",
            "60/60 [==============================] - 4s 60ms/step - loss: 2.8970e-04 - mae: 0.0180 - val_loss: 0.0067 - val_mae: 0.1064\n",
            "Epoch 12/100\n",
            "60/60 [==============================] - ETA: 0s - loss: 3.9271e-04 - mae: 0.0214MAE has reached below 10%\n",
            "60/60 [==============================] - 4s 60ms/step - loss: 3.9271e-04 - mae: 0.0214 - val_loss: 0.0023 - val_mae: 0.0549\n",
            "Epoch 13/100\n",
            "60/60 [==============================] - ETA: 0s - loss: 2.3368e-04 - mae: 0.0165MAE has reached below 10%\n",
            "60/60 [==============================] - 4s 60ms/step - loss: 2.3368e-04 - mae: 0.0165 - val_loss: 0.0010 - val_mae: 0.0347\n",
            "Epoch 14/100\n",
            "60/60 [==============================] - ETA: 0s - loss: 2.4644e-04 - mae: 0.0171MAE has reached below 10%\n",
            "60/60 [==============================] - 4s 60ms/step - loss: 2.4644e-04 - mae: 0.0171 - val_loss: 0.0022 - val_mae: 0.0543\n",
            "Epoch 15/100\n",
            "60/60 [==============================] - ETA: 0s - loss: 2.2709e-04 - mae: 0.0161MAE has reached below 10%\n",
            "60/60 [==============================] - 4s 60ms/step - loss: 2.2709e-04 - mae: 0.0161 - val_loss: 0.0019 - val_mae: 0.0496\n",
            "Epoch 16/100\n",
            "59/60 [============================>.] - ETA: 0s - loss: 2.3978e-04 - mae: 0.0163MAE has reached below 10%\n",
            "60/60 [==============================] - 4s 60ms/step - loss: 2.3976e-04 - mae: 0.0163 - val_loss: 0.0032 - val_mae: 0.0705\n",
            "Epoch 17/100\n",
            "60/60 [==============================] - ETA: 0s - loss: 2.3384e-04 - mae: 0.0163MAE has reached below 10%\n",
            "60/60 [==============================] - 4s 60ms/step - loss: 2.3384e-04 - mae: 0.0163 - val_loss: 0.0017 - val_mae: 0.0465\n",
            "Epoch 18/100\n",
            "60/60 [==============================] - ETA: 0s - loss: 2.4952e-04 - mae: 0.0170MAE has reached below 10%\n",
            "60/60 [==============================] - 4s 61ms/step - loss: 2.4952e-04 - mae: 0.0170 - val_loss: 0.0016 - val_mae: 0.0443\n",
            "Epoch 19/100\n",
            "60/60 [==============================] - ETA: 0s - loss: 2.8296e-04 - mae: 0.0182MAE has reached below 10%\n",
            "60/60 [==============================] - 4s 61ms/step - loss: 2.8296e-04 - mae: 0.0182 - val_loss: 0.0019 - val_mae: 0.0502\n",
            "Epoch 20/100\n",
            "60/60 [==============================] - ETA: 0s - loss: 2.1939e-04 - mae: 0.0155MAE has reached below 10%\n",
            "60/60 [==============================] - 4s 61ms/step - loss: 2.1939e-04 - mae: 0.0155 - val_loss: 0.0030 - val_mae: 0.0652\n",
            "Epoch 21/100\n",
            "59/60 [============================>.] - ETA: 0s - loss: 2.2080e-04 - mae: 0.0158MAE has reached below 10%\n",
            "60/60 [==============================] - 4s 60ms/step - loss: 2.2079e-04 - mae: 0.0158 - val_loss: 0.0021 - val_mae: 0.0532\n",
            "Epoch 22/100\n",
            "60/60 [==============================] - ETA: 0s - loss: 2.2470e-04 - mae: 0.0161MAE has reached below 10%\n",
            "60/60 [==============================] - 4s 61ms/step - loss: 2.2470e-04 - mae: 0.0161 - val_loss: 9.2635e-04 - val_mae: 0.0300\n",
            "Epoch 23/100\n",
            "60/60 [==============================] - ETA: 0s - loss: 2.0977e-04 - mae: 0.0155MAE has reached below 10%\n",
            "60/60 [==============================] - 4s 60ms/step - loss: 2.0977e-04 - mae: 0.0155 - val_loss: 6.8323e-04 - val_mae: 0.0303\n",
            "Epoch 24/100\n",
            "60/60 [==============================] - ETA: 0s - loss: 3.2023e-04 - mae: 0.0189MAE has reached below 10%\n",
            "60/60 [==============================] - 4s 60ms/step - loss: 3.2023e-04 - mae: 0.0189 - val_loss: 0.0013 - val_mae: 0.0381\n",
            "Epoch 25/100\n",
            "60/60 [==============================] - ETA: 0s - loss: 2.3831e-04 - mae: 0.0169MAE has reached below 10%\n",
            "60/60 [==============================] - 4s 60ms/step - loss: 2.3831e-04 - mae: 0.0169 - val_loss: 0.0023 - val_mae: 0.0549\n",
            "Epoch 26/100\n",
            "60/60 [==============================] - ETA: 0s - loss: 3.0090e-04 - mae: 0.0183MAE has reached below 10%\n",
            "60/60 [==============================] - 4s 60ms/step - loss: 3.0090e-04 - mae: 0.0183 - val_loss: 0.0115 - val_mae: 0.1425\n",
            "Epoch 27/100\n",
            "60/60 [==============================] - ETA: 0s - loss: 3.0106e-04 - mae: 0.0186MAE has reached below 10%\n",
            "60/60 [==============================] - 4s 60ms/step - loss: 3.0106e-04 - mae: 0.0186 - val_loss: 0.0038 - val_mae: 0.0765\n",
            "Epoch 28/100\n",
            "60/60 [==============================] - ETA: 0s - loss: 2.2947e-04 - mae: 0.0163MAE has reached below 10%\n",
            "60/60 [==============================] - 4s 60ms/step - loss: 2.2947e-04 - mae: 0.0163 - val_loss: 0.0026 - val_mae: 0.0587\n",
            "Epoch 29/100\n",
            "60/60 [==============================] - ETA: 0s - loss: 1.9502e-04 - mae: 0.0149MAE has reached below 10%\n",
            "60/60 [==============================] - 4s 60ms/step - loss: 1.9502e-04 - mae: 0.0149 - val_loss: 0.0026 - val_mae: 0.0559\n",
            "Epoch 30/100\n",
            "60/60 [==============================] - ETA: 0s - loss: 2.1683e-04 - mae: 0.0160MAE has reached below 10%\n",
            "60/60 [==============================] - 4s 60ms/step - loss: 2.1683e-04 - mae: 0.0160 - val_loss: 0.0044 - val_mae: 0.0826\n",
            "Epoch 31/100\n",
            "60/60 [==============================] - ETA: 0s - loss: 2.2914e-04 - mae: 0.0163MAE has reached below 10%\n",
            "60/60 [==============================] - 4s 61ms/step - loss: 2.2914e-04 - mae: 0.0163 - val_loss: 0.0029 - val_mae: 0.0642\n",
            "Epoch 32/100\n",
            "60/60 [==============================] - ETA: 0s - loss: 3.1107e-04 - mae: 0.0188MAE has reached below 10%\n",
            "60/60 [==============================] - 4s 60ms/step - loss: 3.1107e-04 - mae: 0.0188 - val_loss: 0.0034 - val_mae: 0.0677\n",
            "Epoch 33/100\n",
            "60/60 [==============================] - ETA: 0s - loss: 2.5830e-04 - mae: 0.0168MAE has reached below 10%\n",
            "60/60 [==============================] - 4s 61ms/step - loss: 2.5830e-04 - mae: 0.0168 - val_loss: 0.0011 - val_mae: 0.0311\n",
            "Epoch 34/100\n",
            "60/60 [==============================] - ETA: 0s - loss: 2.0843e-04 - mae: 0.0156MAE has reached below 10%\n",
            "60/60 [==============================] - 4s 60ms/step - loss: 2.0843e-04 - mae: 0.0156 - val_loss: 0.0016 - val_mae: 0.0399\n",
            "Epoch 35/100\n",
            "59/60 [============================>.] - ETA: 0s - loss: 2.1176e-04 - mae: 0.0154MAE has reached below 10%\n",
            "60/60 [==============================] - 4s 61ms/step - loss: 2.1168e-04 - mae: 0.0154 - val_loss: 0.0031 - val_mae: 0.0690\n",
            "Epoch 36/100\n",
            "60/60 [==============================] - ETA: 0s - loss: 2.4355e-04 - mae: 0.0168MAE has reached below 10%\n",
            "60/60 [==============================] - 4s 60ms/step - loss: 2.4355e-04 - mae: 0.0168 - val_loss: 0.0011 - val_mae: 0.0322\n",
            "Epoch 37/100\n",
            "60/60 [==============================] - ETA: 0s - loss: 1.8125e-04 - mae: 0.0142MAE has reached below 10%\n",
            "60/60 [==============================] - 4s 60ms/step - loss: 1.8125e-04 - mae: 0.0142 - val_loss: 0.0021 - val_mae: 0.0496\n",
            "Epoch 38/100\n",
            "60/60 [==============================] - ETA: 0s - loss: 2.0914e-04 - mae: 0.0154MAE has reached below 10%\n",
            "60/60 [==============================] - 4s 60ms/step - loss: 2.0914e-04 - mae: 0.0154 - val_loss: 0.0014 - val_mae: 0.0372\n",
            "Epoch 39/100\n",
            "60/60 [==============================] - ETA: 0s - loss: 2.2037e-04 - mae: 0.0158MAE has reached below 10%\n",
            "60/60 [==============================] - 4s 60ms/step - loss: 2.2037e-04 - mae: 0.0158 - val_loss: 0.0027 - val_mae: 0.0566\n",
            "Epoch 40/100\n",
            "60/60 [==============================] - ETA: 0s - loss: 2.0888e-04 - mae: 0.0155MAE has reached below 10%\n",
            "60/60 [==============================] - 4s 61ms/step - loss: 2.0888e-04 - mae: 0.0155 - val_loss: 0.0013 - val_mae: 0.0372\n",
            "Epoch 41/100\n",
            "59/60 [============================>.] - ETA: 0s - loss: 2.2442e-04 - mae: 0.0161MAE has reached below 10%\n",
            "60/60 [==============================] - 4s 61ms/step - loss: 2.2434e-04 - mae: 0.0160 - val_loss: 9.9655e-04 - val_mae: 0.0304\n",
            "Epoch 42/100\n",
            "59/60 [============================>.] - ETA: 0s - loss: 1.8973e-04 - mae: 0.0149MAE has reached below 10%\n",
            "60/60 [==============================] - 4s 60ms/step - loss: 1.8971e-04 - mae: 0.0149 - val_loss: 0.0024 - val_mae: 0.0511\n",
            "Epoch 43/100\n",
            "60/60 [==============================] - ETA: 0s - loss: 2.3390e-04 - mae: 0.0163MAE has reached below 10%\n",
            "60/60 [==============================] - 4s 60ms/step - loss: 2.3390e-04 - mae: 0.0163 - val_loss: 0.0013 - val_mae: 0.0333\n",
            "Epoch 44/100\n",
            "60/60 [==============================] - ETA: 0s - loss: 2.2803e-04 - mae: 0.0161MAE has reached below 10%\n",
            "60/60 [==============================] - 4s 61ms/step - loss: 2.2803e-04 - mae: 0.0161 - val_loss: 0.0021 - val_mae: 0.0473\n",
            "Epoch 45/100\n",
            "60/60 [==============================] - ETA: 0s - loss: 2.0567e-04 - mae: 0.0157MAE has reached below 10%\n",
            "60/60 [==============================] - 4s 60ms/step - loss: 2.0567e-04 - mae: 0.0157 - val_loss: 0.0028 - val_mae: 0.0543\n",
            "Epoch 46/100\n",
            "59/60 [============================>.] - ETA: 0s - loss: 2.3027e-04 - mae: 0.0160MAE has reached below 10%\n",
            "60/60 [==============================] - 4s 61ms/step - loss: 2.3113e-04 - mae: 0.0160 - val_loss: 0.0014 - val_mae: 0.0353\n",
            "Epoch 47/100\n",
            "59/60 [============================>.] - ETA: 0s - loss: 2.7649e-04 - mae: 0.0177MAE has reached below 10%\n",
            "60/60 [==============================] - 4s 61ms/step - loss: 2.7607e-04 - mae: 0.0177 - val_loss: 0.0031 - val_mae: 0.0649\n",
            "Epoch 48/100\n",
            "60/60 [==============================] - ETA: 0s - loss: 1.7436e-04 - mae: 0.0141MAE has reached below 10%\n",
            "60/60 [==============================] - 4s 61ms/step - loss: 1.7436e-04 - mae: 0.0141 - val_loss: 0.0024 - val_mae: 0.0525\n",
            "Epoch 49/100\n",
            "60/60 [==============================] - ETA: 0s - loss: 1.6396e-04 - mae: 0.0137MAE has reached below 10%\n",
            "60/60 [==============================] - 4s 60ms/step - loss: 1.6396e-04 - mae: 0.0137 - val_loss: 0.0019 - val_mae: 0.0438\n",
            "Epoch 50/100\n",
            "60/60 [==============================] - ETA: 0s - loss: 1.9347e-04 - mae: 0.0147MAE has reached below 10%\n",
            "60/60 [==============================] - 4s 61ms/step - loss: 1.9347e-04 - mae: 0.0147 - val_loss: 0.0019 - val_mae: 0.0432\n",
            "Epoch 51/100\n",
            "60/60 [==============================] - ETA: 0s - loss: 1.5754e-04 - mae: 0.0135MAE has reached below 10%\n",
            "60/60 [==============================] - 4s 61ms/step - loss: 1.5754e-04 - mae: 0.0135 - val_loss: 0.0014 - val_mae: 0.0377\n",
            "Epoch 52/100\n",
            "60/60 [==============================] - ETA: 0s - loss: 2.5778e-04 - mae: 0.0172MAE has reached below 10%\n",
            "60/60 [==============================] - 4s 61ms/step - loss: 2.5778e-04 - mae: 0.0172 - val_loss: 0.0038 - val_mae: 0.0675\n",
            "Epoch 53/100\n",
            "60/60 [==============================] - ETA: 0s - loss: 1.7753e-04 - mae: 0.0137MAE has reached below 10%\n",
            "60/60 [==============================] - 4s 62ms/step - loss: 1.7753e-04 - mae: 0.0137 - val_loss: 0.0020 - val_mae: 0.0468\n",
            "Epoch 54/100\n",
            "60/60 [==============================] - ETA: 0s - loss: 1.7890e-04 - mae: 0.0142MAE has reached below 10%\n",
            "60/60 [==============================] - 4s 60ms/step - loss: 1.7890e-04 - mae: 0.0142 - val_loss: 0.0075 - val_mae: 0.1109\n",
            "Epoch 55/100\n",
            "60/60 [==============================] - ETA: 0s - loss: 1.9777e-04 - mae: 0.0145MAE has reached below 10%\n",
            "60/60 [==============================] - 4s 61ms/step - loss: 1.9777e-04 - mae: 0.0145 - val_loss: 0.0045 - val_mae: 0.0804\n",
            "Epoch 56/100\n",
            "60/60 [==============================] - ETA: 0s - loss: 2.3067e-04 - mae: 0.0162MAE has reached below 10%\n",
            "60/60 [==============================] - 4s 61ms/step - loss: 2.3067e-04 - mae: 0.0162 - val_loss: 0.0038 - val_mae: 0.0700\n",
            "Epoch 57/100\n",
            "60/60 [==============================] - ETA: 0s - loss: 3.1026e-04 - mae: 0.0192MAE has reached below 10%\n",
            "60/60 [==============================] - 4s 61ms/step - loss: 3.1026e-04 - mae: 0.0192 - val_loss: 0.0025 - val_mae: 0.0451\n",
            "Epoch 58/100\n",
            "60/60 [==============================] - ETA: 0s - loss: 2.4229e-04 - mae: 0.0165MAE has reached below 10%\n",
            "60/60 [==============================] - 4s 61ms/step - loss: 2.4229e-04 - mae: 0.0165 - val_loss: 0.0039 - val_mae: 0.0635\n",
            "Epoch 59/100\n",
            "60/60 [==============================] - ETA: 0s - loss: 2.0347e-04 - mae: 0.0152MAE has reached below 10%\n",
            "60/60 [==============================] - 4s 61ms/step - loss: 2.0347e-04 - mae: 0.0152 - val_loss: 0.0043 - val_mae: 0.0750\n",
            "Epoch 60/100\n",
            "60/60 [==============================] - ETA: 0s - loss: 1.6271e-04 - mae: 0.0137MAE has reached below 10%\n",
            "60/60 [==============================] - 4s 61ms/step - loss: 1.6271e-04 - mae: 0.0137 - val_loss: 0.0021 - val_mae: 0.0448\n",
            "Epoch 61/100\n",
            "59/60 [============================>.] - ETA: 0s - loss: 1.7363e-04 - mae: 0.0141MAE has reached below 10%\n",
            "60/60 [==============================] - 4s 61ms/step - loss: 1.7367e-04 - mae: 0.0141 - val_loss: 0.0017 - val_mae: 0.0373\n",
            "Epoch 62/100\n",
            "60/60 [==============================] - ETA: 0s - loss: 1.7219e-04 - mae: 0.0140MAE has reached below 10%\n",
            "60/60 [==============================] - 4s 61ms/step - loss: 1.7219e-04 - mae: 0.0140 - val_loss: 0.0048 - val_mae: 0.0780\n",
            "Epoch 63/100\n",
            "60/60 [==============================] - ETA: 0s - loss: 1.8898e-04 - mae: 0.0146MAE has reached below 10%\n",
            "60/60 [==============================] - 4s 60ms/step - loss: 1.8898e-04 - mae: 0.0146 - val_loss: 0.0028 - val_mae: 0.0544\n",
            "Epoch 64/100\n",
            "60/60 [==============================] - ETA: 0s - loss: 2.1861e-04 - mae: 0.0158MAE has reached below 10%\n",
            "60/60 [==============================] - 4s 61ms/step - loss: 2.1861e-04 - mae: 0.0158 - val_loss: 0.0039 - val_mae: 0.0722\n",
            "Epoch 65/100\n",
            "60/60 [==============================] - ETA: 0s - loss: 2.0956e-04 - mae: 0.0155MAE has reached below 10%\n",
            "60/60 [==============================] - 4s 61ms/step - loss: 2.0956e-04 - mae: 0.0155 - val_loss: 0.0048 - val_mae: 0.0808\n",
            "Epoch 66/100\n",
            "60/60 [==============================] - ETA: 0s - loss: 2.2510e-04 - mae: 0.0165MAE has reached below 10%\n",
            "60/60 [==============================] - 4s 61ms/step - loss: 2.2510e-04 - mae: 0.0165 - val_loss: 0.0030 - val_mae: 0.0552\n",
            "Epoch 67/100\n",
            "60/60 [==============================] - ETA: 0s - loss: 1.7462e-04 - mae: 0.0139MAE has reached below 10%\n",
            "60/60 [==============================] - 4s 61ms/step - loss: 1.7462e-04 - mae: 0.0139 - val_loss: 0.0038 - val_mae: 0.0615\n",
            "Epoch 68/100\n",
            "60/60 [==============================] - ETA: 0s - loss: 2.1454e-04 - mae: 0.0153MAE has reached below 10%\n",
            "60/60 [==============================] - 4s 61ms/step - loss: 2.1454e-04 - mae: 0.0153 - val_loss: 0.0061 - val_mae: 0.0901\n",
            "Epoch 69/100\n",
            "60/60 [==============================] - ETA: 0s - loss: 2.0741e-04 - mae: 0.0154MAE has reached below 10%\n",
            "60/60 [==============================] - 4s 62ms/step - loss: 2.0741e-04 - mae: 0.0154 - val_loss: 0.0055 - val_mae: 0.0873\n",
            "Epoch 70/100\n",
            "60/60 [==============================] - ETA: 0s - loss: 2.1437e-04 - mae: 0.0158MAE has reached below 10%\n",
            "60/60 [==============================] - 4s 61ms/step - loss: 2.1437e-04 - mae: 0.0158 - val_loss: 0.0052 - val_mae: 0.0846\n",
            "Epoch 71/100\n",
            "59/60 [============================>.] - ETA: 0s - loss: 2.2787e-04 - mae: 0.0160MAE has reached below 10%\n",
            "60/60 [==============================] - 4s 61ms/step - loss: 2.2812e-04 - mae: 0.0160 - val_loss: 0.0056 - val_mae: 0.0836\n",
            "Epoch 72/100\n",
            "60/60 [==============================] - ETA: 0s - loss: 1.9666e-04 - mae: 0.0150MAE has reached below 10%\n",
            "60/60 [==============================] - 4s 61ms/step - loss: 1.9666e-04 - mae: 0.0150 - val_loss: 0.0060 - val_mae: 0.0894\n",
            "Epoch 73/100\n",
            "59/60 [============================>.] - ETA: 0s - loss: 2.0438e-04 - mae: 0.0150MAE has reached below 10%\n",
            "60/60 [==============================] - 4s 61ms/step - loss: 2.0400e-04 - mae: 0.0150 - val_loss: 0.0032 - val_mae: 0.0548\n",
            "Epoch 74/100\n",
            "60/60 [==============================] - ETA: 0s - loss: 2.1303e-04 - mae: 0.0157MAE has reached below 10%\n",
            "60/60 [==============================] - 4s 62ms/step - loss: 2.1303e-04 - mae: 0.0157 - val_loss: 0.0020 - val_mae: 0.0406\n",
            "Epoch 75/100\n",
            "60/60 [==============================] - ETA: 0s - loss: 2.1576e-04 - mae: 0.0156MAE has reached below 10%\n",
            "60/60 [==============================] - 4s 61ms/step - loss: 2.1576e-04 - mae: 0.0156 - val_loss: 0.0034 - val_mae: 0.0612\n",
            "Epoch 76/100\n",
            "60/60 [==============================] - ETA: 0s - loss: 1.8734e-04 - mae: 0.0146MAE has reached below 10%\n",
            "60/60 [==============================] - 4s 61ms/step - loss: 1.8734e-04 - mae: 0.0146 - val_loss: 0.0030 - val_mae: 0.0540\n",
            "Epoch 77/100\n",
            "60/60 [==============================] - ETA: 0s - loss: 1.5343e-04 - mae: 0.0133MAE has reached below 10%\n",
            "60/60 [==============================] - 4s 61ms/step - loss: 1.5343e-04 - mae: 0.0133 - val_loss: 0.0037 - val_mae: 0.0664\n",
            "Epoch 78/100\n",
            "60/60 [==============================] - ETA: 0s - loss: 1.8748e-04 - mae: 0.0147MAE has reached below 10%\n",
            "60/60 [==============================] - 4s 62ms/step - loss: 1.8748e-04 - mae: 0.0147 - val_loss: 0.0042 - val_mae: 0.0678\n",
            "Epoch 79/100\n",
            "60/60 [==============================] - ETA: 0s - loss: 1.7580e-04 - mae: 0.0143MAE has reached below 10%\n",
            "60/60 [==============================] - 4s 61ms/step - loss: 1.7580e-04 - mae: 0.0143 - val_loss: 0.0040 - val_mae: 0.0675\n",
            "Epoch 80/100\n",
            "60/60 [==============================] - ETA: 0s - loss: 1.6296e-04 - mae: 0.0138MAE has reached below 10%\n",
            "60/60 [==============================] - 4s 62ms/step - loss: 1.6296e-04 - mae: 0.0138 - val_loss: 0.0082 - val_mae: 0.1126\n",
            "Epoch 81/100\n",
            "60/60 [==============================] - ETA: 0s - loss: 2.7124e-04 - mae: 0.0175MAE has reached below 10%\n",
            "60/60 [==============================] - 4s 62ms/step - loss: 2.7124e-04 - mae: 0.0175 - val_loss: 0.0031 - val_mae: 0.0504\n",
            "Epoch 82/100\n",
            "59/60 [============================>.] - ETA: 0s - loss: 1.6777e-04 - mae: 0.0141MAE has reached below 10%\n",
            "60/60 [==============================] - 4s 61ms/step - loss: 1.6755e-04 - mae: 0.0141 - val_loss: 0.0100 - val_mae: 0.1200\n",
            "Epoch 83/100\n",
            "59/60 [============================>.] - ETA: 0s - loss: 2.2113e-04 - mae: 0.0159MAE has reached below 10%\n",
            "60/60 [==============================] - 4s 61ms/step - loss: 2.2089e-04 - mae: 0.0159 - val_loss: 0.0022 - val_mae: 0.0429\n",
            "Epoch 84/100\n",
            "60/60 [==============================] - ETA: 0s - loss: 1.8016e-04 - mae: 0.0145MAE has reached below 10%\n",
            "60/60 [==============================] - 4s 62ms/step - loss: 1.8016e-04 - mae: 0.0145 - val_loss: 0.0056 - val_mae: 0.0907\n",
            "Epoch 85/100\n",
            "60/60 [==============================] - ETA: 0s - loss: 1.9105e-04 - mae: 0.0151MAE has reached below 10%\n",
            "60/60 [==============================] - 4s 61ms/step - loss: 1.9105e-04 - mae: 0.0151 - val_loss: 0.0032 - val_mae: 0.0526\n",
            "Epoch 86/100\n",
            "60/60 [==============================] - ETA: 0s - loss: 1.6359e-04 - mae: 0.0138MAE has reached below 10%\n",
            "60/60 [==============================] - 4s 61ms/step - loss: 1.6359e-04 - mae: 0.0138 - val_loss: 0.0027 - val_mae: 0.0472\n",
            "Epoch 87/100\n",
            "60/60 [==============================] - ETA: 0s - loss: 1.6552e-04 - mae: 0.0138MAE has reached below 10%\n",
            "60/60 [==============================] - 4s 61ms/step - loss: 1.6552e-04 - mae: 0.0138 - val_loss: 0.0037 - val_mae: 0.0606\n",
            "Epoch 88/100\n",
            "60/60 [==============================] - ETA: 0s - loss: 2.1555e-04 - mae: 0.0155MAE has reached below 10%\n",
            "60/60 [==============================] - 4s 61ms/step - loss: 2.1555e-04 - mae: 0.0155 - val_loss: 0.0011 - val_mae: 0.0324\n",
            "Epoch 89/100\n",
            "60/60 [==============================] - ETA: 0s - loss: 1.5449e-04 - mae: 0.0132MAE has reached below 10%\n",
            "60/60 [==============================] - 4s 61ms/step - loss: 1.5449e-04 - mae: 0.0132 - val_loss: 0.0058 - val_mae: 0.0865\n",
            "Epoch 90/100\n",
            "60/60 [==============================] - ETA: 0s - loss: 4.0261e-04 - mae: 0.0218MAE has reached below 10%\n",
            "60/60 [==============================] - 4s 62ms/step - loss: 4.0261e-04 - mae: 0.0218 - val_loss: 0.0055 - val_mae: 0.0723\n",
            "Epoch 91/100\n",
            "60/60 [==============================] - ETA: 0s - loss: 2.3459e-04 - mae: 0.0163MAE has reached below 10%\n",
            "60/60 [==============================] - 4s 61ms/step - loss: 2.3459e-04 - mae: 0.0163 - val_loss: 0.0052 - val_mae: 0.0736\n",
            "Epoch 92/100\n",
            "60/60 [==============================] - ETA: 0s - loss: 1.5666e-04 - mae: 0.0132MAE has reached below 10%\n",
            "60/60 [==============================] - 4s 62ms/step - loss: 1.5666e-04 - mae: 0.0132 - val_loss: 0.0086 - val_mae: 0.1115\n",
            "Epoch 93/100\n",
            "60/60 [==============================] - ETA: 0s - loss: 1.7952e-04 - mae: 0.0144MAE has reached below 10%\n",
            "60/60 [==============================] - 4s 60ms/step - loss: 1.7952e-04 - mae: 0.0144 - val_loss: 0.0064 - val_mae: 0.0932\n",
            "Epoch 94/100\n",
            "60/60 [==============================] - ETA: 0s - loss: 1.5043e-04 - mae: 0.0132MAE has reached below 10%\n",
            "60/60 [==============================] - 4s 62ms/step - loss: 1.5043e-04 - mae: 0.0132 - val_loss: 0.0035 - val_mae: 0.0598\n",
            "Epoch 95/100\n",
            "59/60 [============================>.] - ETA: 0s - loss: 1.6300e-04 - mae: 0.0133MAE has reached below 10%\n",
            "60/60 [==============================] - 4s 61ms/step - loss: 1.6267e-04 - mae: 0.0133 - val_loss: 0.0042 - val_mae: 0.0613\n",
            "Epoch 96/100\n",
            "60/60 [==============================] - ETA: 0s - loss: 1.4999e-04 - mae: 0.0131MAE has reached below 10%\n",
            "60/60 [==============================] - 4s 62ms/step - loss: 1.4999e-04 - mae: 0.0131 - val_loss: 0.0035 - val_mae: 0.0626\n",
            "Epoch 97/100\n",
            "60/60 [==============================] - ETA: 0s - loss: 1.6682e-04 - mae: 0.0137MAE has reached below 10%\n",
            "60/60 [==============================] - 4s 62ms/step - loss: 1.6682e-04 - mae: 0.0137 - val_loss: 0.0010 - val_mae: 0.0301\n",
            "Epoch 98/100\n",
            "60/60 [==============================] - ETA: 0s - loss: 1.8257e-04 - mae: 0.0143MAE has reached below 10%\n",
            "60/60 [==============================] - 4s 62ms/step - loss: 1.8257e-04 - mae: 0.0143 - val_loss: 0.0055 - val_mae: 0.0806\n",
            "Epoch 99/100\n",
            "59/60 [============================>.] - ETA: 0s - loss: 1.7067e-04 - mae: 0.0142MAE has reached below 10%\n",
            "60/60 [==============================] - 4s 61ms/step - loss: 1.7102e-04 - mae: 0.0142 - val_loss: 0.0069 - val_mae: 0.0931\n",
            "Epoch 100/100\n",
            "60/60 [==============================] - ETA: 0s - loss: 1.7915e-04 - mae: 0.0147MAE has reached below 10%\n",
            "60/60 [==============================] - 4s 61ms/step - loss: 1.7915e-04 - mae: 0.0147 - val_loss: 0.0028 - val_mae: 0.0546\n",
            "Done\n"
          ]
        }
      ]
    },
    {
      "cell_type": "code",
      "source": [
        "dataset_train = df.iloc[:train_size, 4:5]\n",
        "dataset_test = df.iloc[train_size:, 4:5]\n",
        "dataset_total = pd.concat((dataset_train, dataset_test), axis = 0)\n",
        "inputs = dataset_total[len(dataset_total) - len(dataset_test) - window_size:].values\n",
        "inputs = inputs.reshape(-1,1)\n",
        "inputs = sc.transform(inputs)\n",
        "\n",
        "X_test = []\n",
        "for i in range(window_size, test_size(0.2)):\n",
        "    X_test.append(inputs[i-window_size:i, 0])\n",
        "X_test = np.array(X_test)\n",
        "X_test = np.reshape(X_test, (X_test.shape[0], X_test.shape[1], 1))\n",
        "print(X_test.shape)"
      ],
      "metadata": {
        "colab": {
          "base_uri": "https://localhost:8080/"
        },
        "id": "F4URUHyAmv3U",
        "outputId": "bc189c23-fd73-4d28-daa5-f41b2a3eccba"
      },
      "execution_count": 31,
      "outputs": [
        {
          "output_type": "stream",
          "name": "stdout",
          "text": [
            "(554, 50, 1)\n"
          ]
        }
      ]
    },
    {
      "cell_type": "code",
      "source": [
        "predicted_stock_price = model.predict(X_test)\n",
        "predicted_stock_price = sc.inverse_transform(predicted_stock_price)"
      ],
      "metadata": {
        "id": "lwscV0tpoxj6"
      },
      "execution_count": 32,
      "outputs": []
    }
  ]
}